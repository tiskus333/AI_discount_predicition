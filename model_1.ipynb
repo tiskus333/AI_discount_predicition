{
 "metadata": {
  "language_info": {
   "codemirror_mode": {
    "name": "ipython",
    "version": 3
   },
   "file_extension": ".py",
   "mimetype": "text/x-python",
   "name": "python",
   "nbconvert_exporter": "python",
   "pygments_lexer": "ipython3",
   "version": "3.8.5-final"
  },
  "orig_nbformat": 2,
  "kernelspec": {
   "name": "python3",
   "display_name": "Python 3",
   "language": "python"
  }
 },
 "nbformat": 4,
 "nbformat_minor": 2,
 "cells": [
  {
   "cell_type": "code",
   "execution_count": 11,
   "metadata": {},
   "outputs": [],
   "source": [
    "import pandas as pd \n",
    "import numpy as np \n",
    "import seaborn as sns\n",
    "import matplotlib.pyplot as plt \n",
    "\n",
    "import torch\n",
    "import torch.nn as nn\n",
    "import torch.nn.functional as F\n",
    "import torch.optim as optim\n",
    "from torch.utils.data import TensorDataset, DataLoader\n",
    "from tqdm import tqdm"
   ]
  },
  {
   "cell_type": "code",
   "execution_count": 12,
   "metadata": {},
   "outputs": [],
   "source": [
    "class Model1 (nn.Module):\n",
    "    def __init__(self):\n",
    "        super(Model1,self).__init__()\n",
    "        self.model = nn.Sequential(\n",
    "            nn.Linear(5,3),\n",
    "            nn.LeakyReLU(negative_slope=0.1),\n",
    "            nn.Linear(3,1),\n",
    "            nn.Tanh()\n",
    "        )\n",
    "    def forward(self,x):\n",
    "        return self.model(x)"
   ]
  },
  {
   "cell_type": "code",
   "execution_count": 13,
   "metadata": {},
   "outputs": [],
   "source": [
    "df = pd.read_json(\"data2/normal_vpm.json\",orient=\"records\",lines=True)\n"
   ]
  },
  {
   "cell_type": "code",
   "execution_count": 14,
   "metadata": {},
   "outputs": [],
   "source": [
    "list_data = df.to_numpy()\n",
    "np.random.shuffle(list_data)\n",
    "\n",
    "train_x = torch.Tensor(list_data[:10000,:-1])\n",
    "train_Y = torch.Tensor(list_data[:10000,-1].reshape(-1,1))\n",
    "train_data = TensorDataset(train_x,train_Y)\n",
    "train_dataLoader = DataLoader(train_data,batch_size=128,shuffle=True)\n",
    "\n",
    "test_x = torch.Tensor(list_data[10000:,:-1])\n",
    "test_Y = torch.Tensor(list_data[10000:,-1].reshape(-1,1))\n",
    "test_dataset = TensorDataset(test_x,test_Y)\n",
    "test_dataLoader = DataLoader(test_dataset,batch_size=128,shuffle=True)\n"
   ]
  },
  {
   "cell_type": "code",
   "execution_count": 15,
   "metadata": {},
   "outputs": [
    {
     "output_type": "execute_result",
     "data": {
      "text/plain": [
       "tensor([[9.2330e-01, 5.0000e+00, 4.2146e-05, 2.0000e+01, 2.0000e+01],\n",
       "        [4.7296e-01, 5.0000e+00, 8.2275e-05, 2.0000e+01, 2.0000e+01],\n",
       "        [5.2098e-01, 5.0000e+00, 7.4692e-05, 2.0000e+01, 2.0000e+01],\n",
       "        [5.8874e-01, 4.0000e+00, 5.2876e-05, 1.5000e+01, 0.0000e+00],\n",
       "        [2.7239e-05, 2.0000e+00, 5.5814e-01, 1.0000e+01, 1.0000e+01],\n",
       "        [3.5564e-01, 3.0000e+00, 6.5650e-05, 1.5000e+01, 1.5000e+01],\n",
       "        [5.1332e-01, 2.0000e+00, 3.0323e-05, 2.0000e+01, 0.0000e+00],\n",
       "        [5.9059e-01, 4.0000e+00, 5.2711e-05, 2.0000e+01, 2.0000e+01],\n",
       "        [2.8277e-05, 2.0000e+00, 5.3812e-01, 1.5000e+01, 1.5000e+01],\n",
       "        [8.4582e-01, 3.0000e+00, 2.7604e-05, 1.5000e+01, 0.0000e+00]])"
      ]
     },
     "metadata": {},
     "execution_count": 15
    }
   ],
   "source": [
    "test_x[0:10]"
   ]
  },
  {
   "cell_type": "code",
   "execution_count": 16,
   "metadata": {},
   "outputs": [],
   "source": [
    "model1 = Model1()\n",
    "optimizer = optim.Adam(model1.parameters(),lr=0.06)\n",
    "criterion = nn.MSELoss()"
   ]
  },
  {
   "cell_type": "code",
   "execution_count": 17,
   "metadata": {},
   "outputs": [
    {
     "output_type": "stream",
     "name": "stdout",
     "text": [
      "Running model on: cpu\n"
     ]
    }
   ],
   "source": [
    "# device = torch.device(\"cuda:0\" if torch.cuda.is_available() else \"cpu\")\n",
    "device = torch.device(\"cpu\")\n",
    "model1.to(device)\n",
    "print(\"Running model on:\",device)"
   ]
  },
  {
   "cell_type": "code",
   "execution_count": 18,
   "metadata": {
    "tags": []
   },
   "outputs": [
    {
     "output_type": "stream",
     "name": "stderr",
     "text": [
      " 10%|█         | 2/20 [00:00<00:01, 15.20it/s]Loss: 0.482\n",
      "Loss: 0.245\n",
      " 20%|██        | 4/20 [00:00<00:01, 15.33it/s]Loss: 0.266\n",
      "Loss: 0.245\n",
      "Loss: 0.249\n",
      " 30%|███       | 6/20 [00:00<00:00, 14.94it/s]Loss: 0.243\n",
      "Loss: 0.234\n",
      " 40%|████      | 8/20 [00:00<00:00, 14.55it/s]Loss: 0.235\n",
      " 50%|█████     | 10/20 [00:00<00:00, 14.24it/s]Loss: 0.243\n",
      "Loss: 0.227\n",
      "Loss: 0.230\n",
      " 60%|██████    | 12/20 [00:00<00:00, 14.18it/s]Loss: 0.226\n",
      "Loss: 0.230\n",
      " 70%|███████   | 14/20 [00:00<00:00, 14.11it/s]Loss: 0.237\n",
      " 80%|████████  | 16/20 [00:01<00:00, 13.87it/s]Loss: 0.235\n",
      "Loss: 0.231\n",
      "Loss: 0.231\n",
      " 90%|█████████ | 18/20 [00:01<00:00, 13.94it/s]Loss: 0.224\n",
      "Loss: 0.232\n",
      "100%|██████████| 20/20 [00:01<00:00, 14.24it/s]Loss: 0.228\n",
      "\n"
     ]
    }
   ],
   "source": [
    "epochs = 20\n",
    "\n",
    "model1.train()\n",
    "for epoch in tqdm(range(epochs)):\n",
    "    train_loss = []\n",
    "    for x, Y in train_dataLoader:\n",
    "        x = x.to(device)\n",
    "        Y = Y.to(device)\n",
    "        optimizer.zero_grad()\n",
    "        out = model1(x)\n",
    "        loss = criterion(out, Y)\n",
    "        loss.backward()\n",
    "        optimizer.step()\n",
    "        train_loss.append(loss.item())\n",
    "    print(f\"Loss: {np.average(train_loss):.3f}\")"
   ]
  },
  {
   "cell_type": "code",
   "execution_count": 19,
   "metadata": {},
   "outputs": [
    {
     "output_type": "stream",
     "name": "stdout",
     "text": [
      "Corectly predicted: 2525 out of 2752\nTest accuracy: 91.75%\n"
     ]
    }
   ],
   "source": [
    "correct = 0\n",
    "for x, Y in test_dataLoader:\n",
    "    model1.eval()\n",
    "    x = x.to(device)\n",
    "    Y = Y.cpu()\n",
    "    out=model1(x)\n",
    "    out.cpu()\n",
    "    for i,o in enumerate(out):\n",
    "        if o * Y[i] > 0:\n",
    "            correct += 1\n",
    "print(f'Corectly predicted: {correct} out of {len(test_dataset)}\\nTest accuracy: {correct/len(test_dataset):.2%}')\n"
   ]
  },
  {
   "cell_type": "code",
   "execution_count": 20,
   "metadata": {},
   "outputs": [
    {
     "output_type": "stream",
     "name": "stdout",
     "text": [
      "tensor([[-0.9845],\n        [-0.4066],\n        [-0.0899],\n        [ 0.2461],\n        [ 0.5318]], grad_fn=<TanhBackward>)\n"
     ]
    }
   ],
   "source": [
    "model1.cpu()\n",
    "print(model1(torch.Tensor(np.array([[0.5,4,0.00003,5,0],[0.5,4,0.00003,5,5],[0.5,4,0.00003,5,10],[0.5,4,0.00003,5,15],[0.5,4,0.00003,5,20]]))))\n",
    "#print(model1(torch.Tensor(np.array([60000000,2,0,0]))))"
   ]
  }
 ]
}