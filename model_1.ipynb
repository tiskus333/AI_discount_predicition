{
 "metadata": {
  "language_info": {
   "codemirror_mode": {
    "name": "ipython",
    "version": 3
   },
   "file_extension": ".py",
   "mimetype": "text/x-python",
   "name": "python",
   "nbconvert_exporter": "python",
   "pygments_lexer": "ipython3",
   "version": "3.8.5-final"
  },
  "orig_nbformat": 2,
  "kernelspec": {
   "name": "python3",
   "display_name": "Python 3",
   "language": "python"
  }
 },
 "nbformat": 4,
 "nbformat_minor": 2,
 "cells": [
  {
   "cell_type": "code",
   "execution_count": 22,
   "metadata": {},
   "outputs": [],
   "source": [
    "import pandas as pd \n",
    "import numpy as np \n",
    "import seaborn as sns\n",
    "import matplotlib.pyplot as plt \n",
    "\n",
    "import torch\n",
    "import torch.nn as nn\n",
    "import torch.nn.functional as F\n",
    "import torch.optim as optim\n",
    "from torch.utils.data import TensorDataset, DataLoader\n",
    "from tqdm import tqdm"
   ]
  },
  {
   "cell_type": "code",
   "execution_count": 23,
   "metadata": {},
   "outputs": [],
   "source": [
    "class Model1 (nn.Module):\n",
    "    def __init__(self):\n",
    "        super(Model1,self).__init__()\n",
    "        self.model = nn.Sequential(\n",
    "            nn.Linear(5,3),\n",
    "            nn.LeakyReLU(negative_slope=0.1),\n",
    "            nn.Linear(3,1),\n",
    "            nn.Tanh()\n",
    "        )\n",
    "    def forward(self,x):\n",
    "        return self.model(x)"
   ]
  },
  {
   "cell_type": "code",
   "execution_count": 24,
   "metadata": {},
   "outputs": [],
   "source": [
    "df = pd.read_json(\"data2/normal_vpm.json\",orient=\"records\",lines=True)\n"
   ]
  },
  {
   "cell_type": "code",
   "execution_count": 25,
   "metadata": {},
   "outputs": [],
   "source": [
    "list_data = df.to_numpy()\n",
    "np.random.shuffle(list_data)\n",
    "\n",
    "train_x = torch.Tensor(list_data[:10000,:-1])\n",
    "train_Y = torch.Tensor(list_data[:10000,-1].reshape(-1,1))\n",
    "train_data = TensorDataset(train_x,train_Y)\n",
    "train_dataLoader = DataLoader(train_data,batch_size=128,shuffle=True)\n",
    "\n",
    "test_x = torch.Tensor(list_data[10000:,:-1])\n",
    "test_Y = torch.Tensor(list_data[10000:,-1].reshape(-1,1))\n",
    "test_dataset = TensorDataset(test_x,test_Y)\n",
    "test_dataLoader = DataLoader(test_dataset,batch_size=128,shuffle=True)\n"
   ]
  },
  {
   "cell_type": "code",
   "execution_count": 26,
   "metadata": {},
   "outputs": [
    {
     "output_type": "execute_result",
     "data": {
      "text/plain": [
       "tensor([[2.8666e-05, 2.0000e+00, 5.3097e-01, 2.0000e+01, 2.0000e+01],\n",
       "        [4.2209e-01, 5.0000e+00, 9.2192e-05, 1.0000e+01, 0.0000e+00],\n",
       "        [3.7185e-01, 3.0000e+00, 6.2788e-05, 2.0000e+01, 2.0000e+01],\n",
       "        [7.1701e-01, 4.0000e+00, 4.3417e-05, 5.0000e+00, 0.0000e+00],\n",
       "        [5.4183e-01, 7.0000e+00, 1.0055e-04, 1.5000e+01, 0.0000e+00],\n",
       "        [9.8292e-01, 8.0000e+00, 6.3343e-05, 1.5000e+01, 0.0000e+00],\n",
       "        [5.2095e-01, 5.0000e+00, 7.4696e-05, 2.0000e+01, 2.0000e+01],\n",
       "        [1.3578e-01, 2.0000e+00, 1.1463e-04, 5.0000e+00, 0.0000e+00],\n",
       "        [2.6731e-01, 4.0000e+00, 1.1646e-04, 1.5000e+01, 1.5000e+01],\n",
       "        [2.0396e-01, 4.0000e+00, 1.5263e-04, 1.0000e+01, 1.0000e+01]])"
      ]
     },
     "metadata": {},
     "execution_count": 26
    }
   ],
   "source": [
    "test_x[0:10]"
   ]
  },
  {
   "cell_type": "code",
   "execution_count": 27,
   "metadata": {},
   "outputs": [],
   "source": [
    "model1 = Model1()\n",
    "optimizer = optim.Adam(model1.parameters(),lr=0.06)\n",
    "criterion = nn.MSELoss()"
   ]
  },
  {
   "cell_type": "code",
   "execution_count": 28,
   "metadata": {},
   "outputs": [
    {
     "output_type": "stream",
     "name": "stdout",
     "text": [
      "Running model on: cpu\n"
     ]
    }
   ],
   "source": [
    "# device = torch.device(\"cuda:0\" if torch.cuda.is_available() else \"cpu\")\n",
    "device = torch.device(\"cpu\")\n",
    "model1.to(device)\n",
    "print(\"Running model on:\",device)"
   ]
  },
  {
   "cell_type": "code",
   "execution_count": 29,
   "metadata": {
    "tags": []
   },
   "outputs": [
    {
     "output_type": "stream",
     "name": "stderr",
     "text": [
      " 10%|█         | 2/20 [00:00<00:01, 11.98it/s]Loss: 0.354\n",
      "Loss: 0.304\n",
      "Loss: 0.255\n",
      " 20%|██        | 4/20 [00:00<00:01, 12.12it/s]Loss: 0.276\n",
      "Loss: 0.258\n",
      " 30%|███       | 6/20 [00:00<00:01, 12.85it/s]Loss: 0.250\n",
      " 40%|████      | 8/20 [00:00<00:00, 13.40it/s]Loss: 0.241\n",
      "Loss: 0.248\n",
      "Loss: 0.237\n",
      " 50%|█████     | 10/20 [00:00<00:00, 13.54it/s]Loss: 0.244\n",
      "Loss: 0.231\n",
      " 60%|██████    | 12/20 [00:00<00:00, 13.52it/s]Loss: 0.231\n",
      " 70%|███████   | 14/20 [00:01<00:00, 13.63it/s]Loss: 0.231\n",
      "Loss: 0.234\n",
      "Loss: 0.238\n",
      " 80%|████████  | 16/20 [00:01<00:00, 13.80it/s]Loss: 0.227\n",
      "Loss: 0.231\n",
      " 90%|█████████ | 18/20 [00:01<00:00, 13.77it/s]Loss: 0.229\n",
      "100%|██████████| 20/20 [00:01<00:00, 13.51it/s]Loss: 0.228\n",
      "Loss: 0.242\n",
      "\n"
     ]
    }
   ],
   "source": [
    "epochs = 20\n",
    "\n",
    "model1.train()\n",
    "for epoch in tqdm(range(epochs)):\n",
    "    train_loss = []\n",
    "    for x, Y in train_dataLoader:\n",
    "        x = x.to(device)\n",
    "        Y = Y.to(device)\n",
    "        optimizer.zero_grad()\n",
    "        out = model1(x)\n",
    "        loss = criterion(out, Y)\n",
    "        loss.backward()\n",
    "        optimizer.step()\n",
    "        train_loss.append(loss.item())\n",
    "    print(f\"Loss: {np.average(train_loss):.3f}\")"
   ]
  },
  {
   "cell_type": "code",
   "execution_count": 30,
   "metadata": {},
   "outputs": [
    {
     "output_type": "stream",
     "name": "stdout",
     "text": [
      "Corectly predicted: 2562 out of 2808\nTest accuracy: 91.24%\n"
     ]
    }
   ],
   "source": [
    "correct = 0\n",
    "for x, Y in test_dataLoader:\n",
    "    model1.eval()\n",
    "    x = x.to(device)\n",
    "    Y = Y.cpu()\n",
    "    out=model1(x)\n",
    "    out.cpu()\n",
    "    for i,o in enumerate(out):\n",
    "        if o * Y[i] > 0:\n",
    "            correct += 1\n",
    "print(f'Corectly predicted: {correct} out of {len(test_dataset)}\\nTest accuracy: {correct/len(test_dataset):.2%}')\n"
   ]
  },
  {
   "cell_type": "code",
   "execution_count": 32,
   "metadata": {},
   "outputs": [
    {
     "output_type": "stream",
     "name": "stdout",
     "text": [
      "tensor([[0.1641],\n        [0.9871],\n        [0.9977],\n        [0.9996],\n        [0.9999]], grad_fn=<TanhBackward>)\n"
     ]
    }
   ],
   "source": [
    "model1.cpu()\n",
    "print(model1(torch.Tensor(np.array([[0.005,4,0.00003,0,0],[0.005,4,0.00003,0,5],[0.005,4,0.00003,0,10],[0.005,4,0.00003,0,15],[0.005,4,0.00003,0,20]]))))\n",
    "#print(model1(torch.Tensor(np.array([60000000,2,0,0]))))"
   ]
  }
 ]
}