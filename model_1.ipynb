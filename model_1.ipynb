{
 "metadata": {
  "language_info": {
   "codemirror_mode": {
    "name": "ipython",
    "version": 3
   },
   "file_extension": ".py",
   "mimetype": "text/x-python",
   "name": "python",
   "nbconvert_exporter": "python",
   "pygments_lexer": "ipython3",
   "version": "3.8.5-final"
  },
  "orig_nbformat": 2,
  "kernelspec": {
   "name": "python3",
   "display_name": "Python 3",
   "language": "python"
  }
 },
 "nbformat": 4,
 "nbformat_minor": 2,
 "cells": [
  {
   "cell_type": "code",
   "execution_count": 1,
   "metadata": {},
   "outputs": [],
   "source": [
    "import pandas as pd \n",
    "import numpy as np \n",
    "import seaborn as sns\n",
    "import matplotlib.pyplot as plt \n",
    "\n",
    "import torch\n",
    "import torch.nn as nn\n",
    "import torch.nn.functional as F\n",
    "import torch.optim as optim\n",
    "from torch.utils.data import TensorDataset, DataLoader\n",
    "from tqdm import tqdm"
   ]
  },
  {
   "cell_type": "code",
   "execution_count": 2,
   "metadata": {},
   "outputs": [],
   "source": [
    "class Model1 (nn.Module):\n",
    "    def __init__(self):\n",
    "        super(Model1,self).__init__()\n",
    "        self.model = nn.Sequential(\n",
    "            nn.Linear(5,3),\n",
    "            nn.LeakyReLU(negative_slope=0.1),\n",
    "            nn.Linear(3,1),\n",
    "            nn.Tanh()\n",
    "        )\n",
    "    def forward(self,x):\n",
    "        return self.model(x)"
   ]
  },
  {
   "cell_type": "code",
   "execution_count": 3,
   "metadata": {},
   "outputs": [],
   "source": [
    "df = pd.read_json(\"data3/normal_vpm.json\",orient=\"records\",lines=True)\n"
   ]
  },
  {
   "cell_type": "code",
   "execution_count": 4,
   "metadata": {},
   "outputs": [],
   "source": [
    "list_data = df.to_numpy()\n",
    "np.random.shuffle(list_data)\n",
    "\n",
    "train_x = torch.Tensor(list_data[:10000,:-1])\n",
    "train_Y = torch.Tensor(list_data[:10000,-1].reshape(-1,1))\n",
    "train_data = TensorDataset(train_x,train_Y)\n",
    "train_dataLoader = DataLoader(train_data,batch_size=128,shuffle=True)\n",
    "\n",
    "test_x = torch.Tensor(list_data[10000:,:-1])\n",
    "test_Y = torch.Tensor(list_data[10000:,-1].reshape(-1,1))\n",
    "test_dataset = TensorDataset(test_x,test_Y)\n",
    "test_dataLoader = DataLoader(test_dataset,batch_size=128,shuffle=True)\n"
   ]
  },
  {
   "cell_type": "code",
   "execution_count": 5,
   "metadata": {},
   "outputs": [
    {
     "output_type": "execute_result",
     "data": {
      "text/plain": [
       "tensor([[5.8511e-01, 9.0000e+00, 1.0170e-04, 2.0000e+01, 2.0000e+01],\n",
       "        [9.7048e-03, 3.0000e+00, 2.0437e-03, 0.0000e+00, 0.0000e+00],\n",
       "        [8.9707e-01, 1.6000e+01, 1.1792e-04, 2.0000e+01, 0.0000e+00],\n",
       "        [2.4463e-05, 2.0000e+00, 5.2863e-01, 1.5000e+01, 1.5000e+01],\n",
       "        [6.8987e-01, 4.0000e+00, 3.8335e-05, 1.5000e+01, 5.0000e+00],\n",
       "        [3.1295e-05, 2.0000e+00, 4.1522e-01, 2.0000e+01, 2.0000e+01],\n",
       "        [9.8330e-02, 2.0000e+00, 1.3448e-04, 0.0000e+00, 0.0000e+00],\n",
       "        [6.9837e-01, 6.0000e+00, 5.6803e-05, 2.0000e+01, 1.5000e+01],\n",
       "        [6.9569e-01, 9.0000e+00, 8.5532e-05, 2.0000e+01, 0.0000e+00],\n",
       "        [6.9018e-01, 8.0000e+00, 7.6635e-05, 1.0000e+01, 5.0000e+00]])"
      ]
     },
     "metadata": {},
     "execution_count": 5
    }
   ],
   "source": [
    "test_x[0:10]"
   ]
  },
  {
   "cell_type": "code",
   "execution_count": 6,
   "metadata": {},
   "outputs": [],
   "source": [
    "model1 = Model1()\n",
    "optimizer = optim.Adam(model1.parameters(),lr=0.06)\n",
    "criterion = nn.MSELoss()"
   ]
  },
  {
   "cell_type": "code",
   "execution_count": 7,
   "metadata": {},
   "outputs": [
    {
     "output_type": "stream",
     "name": "stdout",
     "text": [
      "Running model on: cpu\n"
     ]
    }
   ],
   "source": [
    "# device = torch.device(\"cuda:0\" if torch.cuda.is_available() else \"cpu\")\n",
    "device = torch.device(\"cpu\")\n",
    "model1.to(device)\n",
    "print(\"Running model on:\",device)"
   ]
  },
  {
   "cell_type": "code",
   "execution_count": 11,
   "metadata": {
    "tags": []
   },
   "outputs": [
    {
     "output_type": "stream",
     "name": "stderr",
     "text": [
      " 10%|█         | 2/20 [00:00<00:01, 14.29it/s]Loss: 0.188\n",
      "Loss: 0.197\n",
      "Loss: 0.195\n",
      " 30%|███       | 6/20 [00:00<00:00, 14.30it/s]Loss: 0.185\n",
      "Loss: 0.219\n",
      "Loss: 0.184\n",
      " 40%|████      | 8/20 [00:00<00:00, 14.28it/s]Loss: 0.185\n",
      "Loss: 0.182\n",
      "Loss: 0.182\n",
      " 60%|██████    | 12/20 [00:00<00:00, 14.31it/s]Loss: 0.232\n",
      "Loss: 0.182\n",
      "Loss: 0.181\n",
      " 80%|████████  | 16/20 [00:01<00:00, 14.64it/s]Loss: 0.183\n",
      "Loss: 0.175\n",
      "Loss: 0.176\n",
      "Loss: 0.175\n",
      "100%|██████████| 20/20 [00:01<00:00, 14.55it/s]Loss: 0.173\n",
      "Loss: 0.193\n",
      "Loss: 0.181\n",
      "Loss: 0.176\n",
      "\n"
     ]
    }
   ],
   "source": [
    "epochs = 20\n",
    "\n",
    "model1.train()\n",
    "for epoch in tqdm(range(epochs)):\n",
    "    train_loss = []\n",
    "    for x, Y in train_dataLoader:\n",
    "        x = x.to(device)\n",
    "        Y = Y.to(device)\n",
    "        optimizer.zero_grad()\n",
    "        out = model1(x)\n",
    "        loss = criterion(out, Y)\n",
    "        loss.backward()\n",
    "        optimizer.step()\n",
    "        train_loss.append(loss.item())\n",
    "    print(f\"Loss: {np.average(train_loss):.3f}\")"
   ]
  },
  {
   "cell_type": "code",
   "execution_count": 12,
   "metadata": {},
   "outputs": [
    {
     "output_type": "stream",
     "name": "stdout",
     "text": [
      "Corectly predicted: 9735 out of 10348\nTest accuracy: 94.08%\n"
     ]
    }
   ],
   "source": [
    "correct = 0\n",
    "for x, Y in test_dataLoader:\n",
    "    model1.eval()\n",
    "    x = x.to(device)\n",
    "    Y = Y.cpu()\n",
    "    out=model1(x)\n",
    "    out.cpu()\n",
    "    for i,o in enumerate(out):\n",
    "        if o * Y[i] > 0:\n",
    "            correct += 1\n",
    "print(f'Corectly predicted: {correct} out of {len(test_dataset)}\\nTest accuracy: {correct/len(test_dataset):.2%}')\n"
   ]
  },
  {
   "cell_type": "code",
   "execution_count": 10,
   "metadata": {},
   "outputs": [
    {
     "output_type": "stream",
     "name": "stdout",
     "text": [
      "tensor([[0.9407],\n        [0.9727],\n        [0.9876],\n        [0.9944],\n        [0.9975]], grad_fn=<TanhBackward>)\n"
     ]
    }
   ],
   "source": [
    "model1.cpu()\n",
    "print(model1(torch.Tensor(np.array([[0.005,4,0.00003,0,0],[0.005,4,0.00003,0,5],[0.005,4,0.00003,0,10],[0.005,4,0.00003,0,15],[0.005,4,0.00003,0,20]]))))\n",
    "#print(model1(torch.Tensor(np.array([60000000,2,0,0]))))"
   ]
  }
 ]
}