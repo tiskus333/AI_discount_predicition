{
 "metadata": {
  "language_info": {
   "codemirror_mode": {
    "name": "ipython",
    "version": 3
   },
   "file_extension": ".py",
   "mimetype": "text/x-python",
   "name": "python",
   "nbconvert_exporter": "python",
   "pygments_lexer": "ipython3",
   "version": "3.8.5"
  },
  "orig_nbformat": 2,
  "kernelspec": {
   "name": "python385jvsc74a57bd0916dbcbb3f70747c44a77c7bcd40155683ae19c65e1c03b4aa3499c5328201f1",
   "display_name": "Python 3.8.5 64-bit"
  },
  "metadata": {
   "interpreter": {
    "hash": "916dbcbb3f70747c44a77c7bcd40155683ae19c65e1c03b4aa3499c5328201f1"
   }
  }
 },
 "nbformat": 4,
 "nbformat_minor": 2,
 "cells": [
  {
   "cell_type": "code",
   "execution_count": 49,
   "metadata": {},
   "outputs": [],
   "source": [
    "import pandas as pd \n",
    "import numpy as np \n",
    "import seaborn as sns\n",
    "import matplotlib.pyplot as plt \n",
    "\n",
    "import torch\n",
    "import torch.nn as nn\n",
    "import torch.nn.functional as F\n",
    "import torch.optim as optim\n",
    "from torch.utils.data import TensorDataset, DataLoader\n",
    "from tqdm.notebook import tqdm\n",
    "from random import randint\n",
    "\n",
    "from model import Model\n",
    "from load_data import load_data"
   ]
  },
  {
   "cell_type": "code",
   "execution_count": 2,
   "metadata": {},
   "outputs": [],
   "source": [
    "train_dataLoader, test_dataLoader, = load_data(\"data3/normal_vpm.json\",batch_size=128,test_size=0.1)"
   ]
  },
  {
   "cell_type": "code",
   "execution_count": 3,
   "metadata": {},
   "outputs": [],
   "source": [
    "model1 = Model()\n",
    "optimizer = optim.Adam(model1.parameters(),lr=0.001)\n",
    "criterion = nn.MSELoss()"
   ]
  },
  {
   "cell_type": "code",
   "execution_count": 4,
   "metadata": {},
   "outputs": [
    {
     "output_type": "stream",
     "name": "stdout",
     "text": [
      "Running model on: cpu\n"
     ]
    }
   ],
   "source": [
    "# device = torch.device(\"cuda:0\" if torch.cuda.is_available() else \"cpu\")\n",
    "device = torch.device(\"cpu\")\n",
    "model1.to(device)\n",
    "print(\"Running model on:\",device)"
   ]
  },
  {
   "cell_type": "code",
   "execution_count": 6,
   "metadata": {
    "tags": []
   },
   "outputs": [
    {
     "output_type": "display_data",
     "data": {
      "text/plain": "Losses:   0%|          | 0/50 [00:00<?, ?it/s]",
      "application/vnd.jupyter.widget-view+json": {
       "version_major": 2,
       "version_minor": 0,
       "model_id": "4b57c6d178aa4b74b8cff091dd103a08"
      }
     },
     "metadata": {}
    }
   ],
   "source": [
    "model1.fit(train_dataLoader,optimizer,criterion,epochs=50)"
   ]
  },
  {
   "cell_type": "code",
   "execution_count": 20,
   "metadata": {},
   "outputs": [
    {
     "output_type": "stream",
     "name": "stdout",
     "text": [
      "Corectly predicted: 1797 out of 2034\nTest accuracy: 88.35%\n"
     ]
    }
   ],
   "source": [
    "model1.test(test_dataLoader,treshold=0.5)\n"
   ]
  },
  {
   "source": [
    "Przykładowa wartość dla której nie ma zakupu, zobaczymy czy dzięki naszemu systemowi byli byśmy wstanie przekonać do zakupu\n",
    "{\"d_time\":0.100068132,\"n_visits\":2,\"visits_per_minute\":0.0001321401,\"max_disc\":0,\"curr_disc\":0,\"is_purchased\":-1}"
   ],
   "cell_type": "markdown",
   "metadata": {}
  },
  {
   "cell_type": "code",
   "execution_count": 14,
   "metadata": {},
   "outputs": [],
   "source": [
    "def best_discount1(discount_list):\n",
    "    return discount_list.index(max(discount_list)) * 5\n"
   ]
  },
  {
   "cell_type": "code",
   "execution_count": 17,
   "metadata": {},
   "outputs": [],
   "source": [
    "def best_discount2(discount_list,threshold):\n",
    "    for i,disc in enumerate(discount_list):\n",
    "        if disc > threshold:\n",
    "            return i * 5\n",
    "    return len(discount_list) * 5"
   ]
  },
  {
   "cell_type": "code",
   "execution_count": 78,
   "metadata": {},
   "outputs": [],
   "source": [
    "def best_discount3(discount_list):\n",
    "    if max(discount_list) <= 0:\n",
    "        return 20\n",
    "    while True:\n",
    "        idx = randint(0,4)\n",
    "        if discount_list[idx] > 0:\n",
    "            return idx * 5\n",
    "        "
   ]
  },
  {
   "cell_type": "code",
   "execution_count": 88,
   "metadata": {},
   "outputs": [],
   "source": [
    "def get_discounts(dataloader):\n",
    "    out = []\n",
    "    bought = 0\n",
    "    for X,Y in dataloader:\n",
    "        for y in Y:\n",
    "            if y > 0:\n",
    "                bought +=1\n",
    "        for x in X:\n",
    "            x_ = x.squeeze().tolist()[:4]\n",
    "            inp = torch.Tensor([x_ + [d*5] for d in range(5)])\n",
    "            out.append(model1(inp).squeeze().tolist())\n",
    "    return out, bought"
   ]
  },
  {
   "cell_type": "code",
   "execution_count": 18,
   "metadata": {},
   "outputs": [
    {
     "output_type": "stream",
     "name": "stdout",
     "text": [
      "[-0.8980417251586914, 0.9287691712379456, 0.9997364282608032, 0.999998927116394, 1.0, 1.0, 1.0, 1.0, 1.0, 1.0]\nFOR 0% discount probablity of buying is -0.89804\nFOR 5% discount probablity of buying is 0.92877\nFOR 10% discount probablity of buying is 0.99974\nFOR 15% discount probablity of buying is 1.0\nFOR 20% discount probablity of buying is 1.0\nFOR 25% discount probablity of buying is 1.0\nFOR 30% discount probablity of buying is 1.0\nFOR 35% discount probablity of buying is 1.0\nFOR 40% discount probablity of buying is 1.0\nFOR 45% discount probablity of buying is 1.0\nBEST discount1=20\nBEST discount2=5\n"
     ]
    }
   ],
   "source": [
    "model1.cpu()\n",
    "inp = torch.Tensor([[0.100068132, 2, 0.0001321401, 0, x*5] for x in range(10)])\n",
    "out = model1(inp).squeeze().tolist()\n",
    "print(out)\n",
    "for prob,disc in zip(out,[5*x for x in range(10)]):\n",
    "    print(f'FOR {disc}% discount probablity of buying is {prob:.5}')\n",
    "#print(model1(torch.Tensor(np.array([60000000,2,0,0]))))\n",
    "print(f'BEST discount1={best_discount1(out)}')\n",
    "print(f'BEST discount2={best_discount2(out,0.8)}')"
   ]
  },
  {
   "cell_type": "code",
   "execution_count": 95,
   "metadata": {
    "tags": []
   },
   "outputs": [
    {
     "output_type": "stream",
     "name": "stdout",
     "text": [
      "BOUGHT: 927 out of 2034\n17.77777777777778\n12.372173058013766\n14.601769911504425\n"
     ]
    }
   ],
   "source": [
    "list1 = []\n",
    "list2 = []\n",
    "list3 = []\n",
    "disc_list, bought = get_discounts(test_dataLoader)\n",
    "for disc in disc_list:\n",
    "    list1.append(best_discount1(disc))\n",
    "    list2.append(best_discount2(disc,0.8))\n",
    "    list3.append(best_discount3(disc))\n",
    "print(f'BOUGHT: {bought} out of {len(test_dataLoader.dataset)}')\n",
    "print(np.average(list1))\n",
    "print(np.average(list2))\n",
    "print(np.average(list3))\n"
   ]
  },
  {
   "cell_type": "code",
   "execution_count": null,
   "metadata": {},
   "outputs": [],
   "source": []
  }
 ]
}