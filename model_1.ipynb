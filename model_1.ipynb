{
 "metadata": {
  "language_info": {
   "codemirror_mode": {
    "name": "ipython",
    "version": 3
   },
   "file_extension": ".py",
   "mimetype": "text/x-python",
   "name": "python",
   "nbconvert_exporter": "python",
   "pygments_lexer": "ipython3",
   "version": "3.8.5"
  },
  "orig_nbformat": 2,
  "kernelspec": {
   "name": "python385jvsc74a57bd0916dbcbb3f70747c44a77c7bcd40155683ae19c65e1c03b4aa3499c5328201f1",
   "display_name": "Python 3.8.5 64-bit"
  },
  "metadata": {
   "interpreter": {
    "hash": "916dbcbb3f70747c44a77c7bcd40155683ae19c65e1c03b4aa3499c5328201f1"
   }
  }
 },
 "nbformat": 4,
 "nbformat_minor": 2,
 "cells": [
  {
   "cell_type": "code",
   "execution_count": 12,
   "metadata": {},
   "outputs": [],
   "source": [
    "import pandas as pd \n",
    "import numpy as np \n",
    "import seaborn as sns\n",
    "import matplotlib.pyplot as plt \n",
    "\n",
    "import torch\n",
    "import torch.nn as nn\n",
    "import torch.nn.functional as F\n",
    "import torch.optim as optim\n",
    "from torch.utils.data import TensorDataset, DataLoader\n",
    "from tqdm.notebook import tqdm\n",
    "\n",
    "from model import Model\n",
    "from load_data import load_data"
   ]
  },
  {
   "cell_type": "code",
   "execution_count": 13,
   "metadata": {},
   "outputs": [],
   "source": [
    "train_dataLoader, test_dataLoader, = load_data(\"data3/normal_vpm.json\",batch_size=128,test_size=0.1)"
   ]
  },
  {
   "cell_type": "code",
   "execution_count": 14,
   "metadata": {},
   "outputs": [],
   "source": [
    "model1 = Model()\n",
    "optimizer = optim.Adam(model1.parameters(),lr=0.001)\n",
    "criterion = nn.MSELoss()"
   ]
  },
  {
   "cell_type": "code",
   "execution_count": 15,
   "metadata": {},
   "outputs": [
    {
     "output_type": "stream",
     "name": "stdout",
     "text": [
      "Running model on: cpu\n"
     ]
    }
   ],
   "source": [
    "# device = torch.device(\"cuda:0\" if torch.cuda.is_available() else \"cpu\")\n",
    "device = torch.device(\"cpu\")\n",
    "model1.to(device)\n",
    "print(\"Running model on:\",device)"
   ]
  },
  {
   "cell_type": "code",
   "execution_count": 19,
   "metadata": {
    "tags": []
   },
   "outputs": [
    {
     "output_type": "display_data",
     "data": {
      "text/plain": "Losses:   0%|          | 0/50 [00:00<?, ?it/s]",
      "application/vnd.jupyter.widget-view+json": {
       "version_major": 2,
       "version_minor": 0,
       "model_id": "b8d57444ef9a49f3b17ea7ab970b91a5"
      }
     },
     "metadata": {}
    }
   ],
   "source": [
    "model1.fit(train_dataLoader,optimizer,criterion,epochs=50)"
   ]
  },
  {
   "cell_type": "code",
   "execution_count": 20,
   "metadata": {},
   "outputs": [
    {
     "output_type": "stream",
     "name": "stdout",
     "text": [
      "Corectly predicted: 1797 out of 2034\nTest accuracy: 88.35%\n"
     ]
    }
   ],
   "source": [
    "model1.test(test_dataLoader,treshold=0.5)\n"
   ]
  },
  {
   "source": [
    "Przykładowa wartość dla której nie ma zakupu, zobaczymy czy dzięki naszemu systemowi byli byśmy wstanie przekonać do zakupu\n",
    "{\"d_time\":0.100068132,\"n_visits\":2,\"visits_per_minute\":0.0001321401,\"max_disc\":0,\"curr_disc\":0,\"is_purchased\":-1}"
   ],
   "cell_type": "markdown",
   "metadata": {}
  },
  {
   "cell_type": "code",
   "execution_count": 18,
   "metadata": {},
   "outputs": [
    {
     "output_type": "stream",
     "name": "stdout",
     "text": [
      "FOR 0% discount probablity of buying is -0.11524\nFOR 5% discount probablity of buying is 0.68108\nFOR 10% discount probablity of buying is 0.9416\nFOR 15% discount probablity of buying is 0.98696\nFOR 20% discount probablity of buying is 0.99674\nFOR 25% discount probablity of buying is 0.9993\nFOR 30% discount probablity of buying is 0.99985\nFOR 35% discount probablity of buying is 0.99997\nFOR 40% discount probablity of buying is 0.99999\nFOR 45% discount probablity of buying is 1.0\n"
     ]
    }
   ],
   "source": [
    "model1.cpu()\n",
    "inp = torch.Tensor([[0.100068132, 2, 0.0001321401, 0, x*5] for x in range(10)])\n",
    "for prob,disc in zip(model1(inp).squeeze().tolist(),[5*x for x in range(10)]):\n",
    "    print(f'FOR {disc}% discount probablity of buying is {prob:.5}')\n",
    "#print(model1(torch.Tensor(np.array([60000000,2,0,0]))))"
   ]
  },
  {
   "cell_type": "code",
   "execution_count": null,
   "metadata": {},
   "outputs": [],
   "source": []
  }
 ]
}