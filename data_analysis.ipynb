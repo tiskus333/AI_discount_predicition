{
 "metadata": {
  "language_info": {
   "codemirror_mode": {
    "name": "ipython",
    "version": 3
   },
   "file_extension": ".py",
   "mimetype": "text/x-python",
   "name": "python",
   "nbconvert_exporter": "python",
   "pygments_lexer": "ipython3",
   "version": "3.8.5-final"
  },
  "orig_nbformat": 2,
  "kernelspec": {
   "name": "python37564bit8d7820ca50834ee68e35a62177f89e77",
   "display_name": "Python 3.7.5 64-bit",
   "language": "python"
  }
 },
 "nbformat": 4,
 "nbformat_minor": 2,
 "cells": [
  {
   "cell_type": "code",
   "execution_count": 15,
   "metadata": {},
   "outputs": [
    {
     "output_type": "stream",
     "name": "stdout",
     "text": [
      "0.9.0\n"
     ]
    }
   ],
   "source": [
    "import torchtext\n",
    "from torchtext.legacy import data\n",
    "from torchtext.legacy import datasets\n",
    "print(torchtext.__version__)\n"
   ]
  },
  {
   "cell_type": "code",
   "execution_count": 16,
   "metadata": {},
   "outputs": [],
   "source": [
    "# create Field objects\n",
    "SESSION_ID = data.Field()\n",
    "TIMESTAMP = data.Field()\n",
    "USER_ID = data.Field()\n",
    "PRODUCT_ID = data.Field()\n",
    "EVENT_TYPE = data.Field()\n",
    "OFFERED_DISCOUNT = data.Field()\n",
    "PURCHASE_ID = data.Field()\n",
    "\n",
    "# create a dictionary representing the dataset\n",
    "fields = {\n",
    "  'session_id': ('session_id', SESSION_ID),\n",
    "  'timestamp': ('timestamp', TIMESTAMP),\n",
    "  'user_id': ('user_id', USER_ID),\n",
    "  'product_id': ('product_id', PRODUCT_ID),\n",
    "  'event_type': ('event_type', EVENT_TYPE),\n",
    "  'offered_discount': ('offered_discount', OFFERED_DISCOUNT),\n",
    "  'purchase_id': ('purchase_id', PURCHASE_ID)\n",
    "}\n",
    "\n",
    "# load the dataset in json format\n",
    "train_ds, valid_ds, test_ds = data.TabularDataset.splits(\n",
    "  path = 'data',\n",
    "  train = 'sessions.jsonl',\n",
    "  validation = 'sessions.jsonl',\n",
    "  test = 'sessions.jsonl',\n",
    "  format = 'json',\n",
    "  fields = fields\n",
    ")\n",
    "\n",
    "\n"
   ]
  },
  {
   "cell_type": "code",
   "execution_count": 17,
   "metadata": {},
   "outputs": [
    {
     "output_type": "stream",
     "name": "stdout",
     "text": [
      "{'session_id': 100001, 'timestamp': ['2021-01-27T08:29:10'], 'user_id': 102, 'product_id': 1233, 'event_type': ['VIEW_PRODUCT'], 'offered_discount': 0, 'purchase_id': None}\n{'session_id': 100001, 'timestamp': ['2021-01-27T08:36:37'], 'user_id': 102, 'product_id': None, 'event_type': ['BUY_PRODUCT'], 'offered_discount': 0, 'purchase_id': 20001}\n"
     ]
    }
   ],
   "source": [
    "# check an example\n",
    "print(vars(train_ds[0]))\n",
    "print(vars(train_ds[2]))"
   ]
  }
 ]
}